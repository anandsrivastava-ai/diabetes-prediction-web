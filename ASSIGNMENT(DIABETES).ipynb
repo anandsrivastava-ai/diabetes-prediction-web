{
 "cells": [
  {
   "cell_type": "markdown",
   "id": "6edb78e7-6d96-4862-b7fe-6abc98ca194a",
   "metadata": {},
   "source": [
    "ASSIGNMENT DIABETES CHECK"
   ]
  },
  {
   "cell_type": "code",
   "execution_count": 31,
   "id": "8e178569-6e4a-45e9-8a02-7f54e3d86201",
   "metadata": {},
   "outputs": [],
   "source": [
    "import numpy as np\n",
    "import pandas as pd\n",
    "import matplotlib.pyplot as plt\n",
    "from sklearn.preprocessing import StandardScaler, LabelEncoder"
   ]
  },
  {
   "cell_type": "code",
   "execution_count": 32,
   "id": "c8584822-01c5-4a71-a692-303082075c84",
   "metadata": {},
   "outputs": [
    {
     "name": "stdout",
     "output_type": "stream",
     "text": [
      "     Glucose   BMI  Age  Diabetes\n",
      "0        148  33.6   50         1\n",
      "1         85  26.6   31         0\n",
      "2        183  23.3   32         1\n",
      "3         89  28.1   21         0\n",
      "4        137  43.1   33         1\n",
      "..       ...   ...  ...       ...\n",
      "763      101  32.9   63         0\n",
      "764      122  36.8   27         0\n",
      "765      121  26.2   30         0\n",
      "766      126  30.1   47         1\n",
      "767       93  30.4   23         0\n",
      "\n",
      "[768 rows x 4 columns]\n"
     ]
    }
   ],
   "source": [
    "df=pd.read_csv(\"diabetes.csv\")\n",
    "print(df)"
   ]
  },
  {
   "cell_type": "code",
   "execution_count": 33,
   "id": "6f914602-5067-4d24-bd32-d63302b88325",
   "metadata": {},
   "outputs": [
    {
     "name": "stdout",
     "output_type": "stream",
     "text": [
      "<class 'pandas.core.frame.DataFrame'>\n",
      "RangeIndex: 768 entries, 0 to 767\n",
      "Data columns (total 4 columns):\n",
      " #   Column    Non-Null Count  Dtype  \n",
      "---  ------    --------------  -----  \n",
      " 0   Glucose   768 non-null    int64  \n",
      " 1   BMI       768 non-null    float64\n",
      " 2   Age       768 non-null    int64  \n",
      " 3   Diabetes  768 non-null    int64  \n",
      "dtypes: float64(1), int64(3)\n",
      "memory usage: 24.1 KB\n"
     ]
    }
   ],
   "source": [
    "df.info()"
   ]
  },
  {
   "cell_type": "code",
   "execution_count": 34,
   "id": "06b4d964-4482-4a1b-8408-9f6a7a8818b9",
   "metadata": {},
   "outputs": [
    {
     "data": {
      "text/html": [
       "<div>\n",
       "<style scoped>\n",
       "    .dataframe tbody tr th:only-of-type {\n",
       "        vertical-align: middle;\n",
       "    }\n",
       "\n",
       "    .dataframe tbody tr th {\n",
       "        vertical-align: top;\n",
       "    }\n",
       "\n",
       "    .dataframe thead th {\n",
       "        text-align: right;\n",
       "    }\n",
       "</style>\n",
       "<table border=\"1\" class=\"dataframe\">\n",
       "  <thead>\n",
       "    <tr style=\"text-align: right;\">\n",
       "      <th></th>\n",
       "      <th>Glucose</th>\n",
       "      <th>BMI</th>\n",
       "      <th>Age</th>\n",
       "      <th>Diabetes</th>\n",
       "    </tr>\n",
       "  </thead>\n",
       "  <tbody>\n",
       "    <tr>\n",
       "      <th>count</th>\n",
       "      <td>768.000000</td>\n",
       "      <td>768.000000</td>\n",
       "      <td>768.000000</td>\n",
       "      <td>768.000000</td>\n",
       "    </tr>\n",
       "    <tr>\n",
       "      <th>mean</th>\n",
       "      <td>120.894531</td>\n",
       "      <td>31.992578</td>\n",
       "      <td>33.240885</td>\n",
       "      <td>0.348958</td>\n",
       "    </tr>\n",
       "    <tr>\n",
       "      <th>std</th>\n",
       "      <td>31.972618</td>\n",
       "      <td>7.884160</td>\n",
       "      <td>11.760232</td>\n",
       "      <td>0.476951</td>\n",
       "    </tr>\n",
       "    <tr>\n",
       "      <th>min</th>\n",
       "      <td>0.000000</td>\n",
       "      <td>0.000000</td>\n",
       "      <td>21.000000</td>\n",
       "      <td>0.000000</td>\n",
       "    </tr>\n",
       "    <tr>\n",
       "      <th>25%</th>\n",
       "      <td>99.000000</td>\n",
       "      <td>27.300000</td>\n",
       "      <td>24.000000</td>\n",
       "      <td>0.000000</td>\n",
       "    </tr>\n",
       "    <tr>\n",
       "      <th>50%</th>\n",
       "      <td>117.000000</td>\n",
       "      <td>32.000000</td>\n",
       "      <td>29.000000</td>\n",
       "      <td>0.000000</td>\n",
       "    </tr>\n",
       "    <tr>\n",
       "      <th>75%</th>\n",
       "      <td>140.250000</td>\n",
       "      <td>36.600000</td>\n",
       "      <td>41.000000</td>\n",
       "      <td>1.000000</td>\n",
       "    </tr>\n",
       "    <tr>\n",
       "      <th>max</th>\n",
       "      <td>199.000000</td>\n",
       "      <td>67.100000</td>\n",
       "      <td>81.000000</td>\n",
       "      <td>1.000000</td>\n",
       "    </tr>\n",
       "  </tbody>\n",
       "</table>\n",
       "</div>"
      ],
      "text/plain": [
       "          Glucose         BMI         Age    Diabetes\n",
       "count  768.000000  768.000000  768.000000  768.000000\n",
       "mean   120.894531   31.992578   33.240885    0.348958\n",
       "std     31.972618    7.884160   11.760232    0.476951\n",
       "min      0.000000    0.000000   21.000000    0.000000\n",
       "25%     99.000000   27.300000   24.000000    0.000000\n",
       "50%    117.000000   32.000000   29.000000    0.000000\n",
       "75%    140.250000   36.600000   41.000000    1.000000\n",
       "max    199.000000   67.100000   81.000000    1.000000"
      ]
     },
     "execution_count": 34,
     "metadata": {},
     "output_type": "execute_result"
    }
   ],
   "source": [
    "df.describe()"
   ]
  },
  {
   "cell_type": "code",
   "execution_count": 35,
   "id": "49281753-b5d6-4a71-9fd9-ea0bc5d746b8",
   "metadata": {},
   "outputs": [
    {
     "data": {
      "text/plain": [
       "Glucose     0\n",
       "BMI         0\n",
       "Age         0\n",
       "Diabetes    0\n",
       "dtype: int64"
      ]
     },
     "execution_count": 35,
     "metadata": {},
     "output_type": "execute_result"
    }
   ],
   "source": [
    "df.isnull().sum()"
   ]
  },
  {
   "cell_type": "code",
   "execution_count": 36,
   "id": "96648b74-5af3-45c8-bbe5-2fef9b88a627",
   "metadata": {},
   "outputs": [
    {
     "data": {
      "text/plain": [
       "np.int64(1)"
      ]
     },
     "execution_count": 36,
     "metadata": {},
     "output_type": "execute_result"
    }
   ],
   "source": [
    "df.duplicated().sum()"
   ]
  },
  {
   "cell_type": "code",
   "execution_count": 37,
   "id": "3deb8028-1982-43e9-8a9c-fb378b75eb09",
   "metadata": {},
   "outputs": [
    {
     "name": "stdout",
     "output_type": "stream",
     "text": [
      "(767, 4)\n"
     ]
    }
   ],
   "source": [
    "df.drop_duplicates(inplace=True)\n",
    "print(df.shape)"
   ]
  },
  {
   "cell_type": "code",
   "execution_count": 38,
   "id": "4c96cdd4-840c-459a-8a26-43c31cd5807b",
   "metadata": {},
   "outputs": [
    {
     "name": "stdout",
     "output_type": "stream",
     "text": [
      "(762, 4)\n",
      "     Glucose   BMI  Age  Diabetes\n",
      "0        148  33.6   50         1\n",
      "1         85  26.6   31         0\n",
      "2        183  23.3   32         1\n",
      "3         89  28.1   21         0\n",
      "4        137  43.1   33         1\n",
      "..       ...   ...  ...       ...\n",
      "763      101  32.9   63         0\n",
      "764      122  36.8   27         0\n",
      "765      121  26.2   30         0\n",
      "766      126  30.1   47         1\n",
      "767       93  30.4   23         0\n",
      "\n",
      "[762 rows x 4 columns]\n"
     ]
    }
   ],
   "source": [
    "#outliers removing\n",
    "Q1=df[\"Glucose\"].quantile(0.25)\n",
    "Q3=df[\"Glucose\"].quantile(0.75)\n",
    "IQR=Q3-Q1\n",
    "\n",
    "#filter out outliers\n",
    "df=df[(df[\"Glucose\"]>=Q1-1.5*IQR) & (df[\"Glucose\"]<=Q3+1.5*IQR)]\n",
    "print(df.shape)\n",
    "print(df)"
   ]
  },
  {
   "cell_type": "code",
   "execution_count": 39,
   "id": "594ae90f-ad2a-4828-9124-0f2c7a10e3d3",
   "metadata": {},
   "outputs": [],
   "source": [
    "x=df[[\"BMI\",\"Glucose\",\"Age\"]]\n",
    "y=df[[\"Diabetes\"]]"
   ]
  },
  {
   "cell_type": "code",
   "execution_count": 40,
   "id": "752f55ac-dc59-4bdd-b524-a91a8138f776",
   "metadata": {},
   "outputs": [],
   "source": [
    "from sklearn.model_selection import train_test_split\n",
    "xtrain,xtest,ytrain,ytest=train_test_split(x,y,test_size=0.3,random_state=42)\n",
    "\n",
    "\n",
    "from sklearn.linear_model import LinearRegression\n",
    "lr=LinearRegression()\n",
    "lr.fit(xtrain,ytrain)\n",
    "\n",
    "\n",
    "yp=lr.predict(xtest)\n"
   ]
  },
  {
   "cell_type": "code",
   "execution_count": 41,
   "id": "46907610-ba0a-452e-a8c2-e96043bde5ed",
   "metadata": {},
   "outputs": [
    {
     "name": "stdout",
     "output_type": "stream",
     "text": [
      "mean squared error 0.16217706883909694\n",
      "mean absolute error 0.3341938334717793\n",
      "root mean squared error 0.4027121414100858\n"
     ]
    }
   ],
   "source": [
    "from sklearn import metrics\n",
    "mae=metrics.mean_absolute_error(ytest,yp)\n",
    "mse=metrics.mean_squared_error(ytest,yp)\n",
    "RMSE=np.sqrt(mse)\n",
    "print(\"mean squared error\",mse)\n",
    "print(\"mean absolute error\",mae)\n",
    "print(\"root mean squared error\",RMSE)"
   ]
  },
  {
   "cell_type": "code",
   "execution_count": 42,
   "id": "9b1510f2-d4d3-4120-b5a9-b2be4e2d4fe4",
   "metadata": {},
   "outputs": [
    {
     "name": "stdout",
     "output_type": "stream",
     "text": [
      "[[ 0.26528   ]\n",
      " [ 0.13107216]\n",
      " [ 0.46203117]\n",
      " [ 0.40237396]\n",
      " [ 0.06418393]\n",
      " [ 0.78123965]\n",
      " [ 0.1590147 ]\n",
      " [ 0.04179399]\n",
      " [ 0.2573133 ]\n",
      " [ 0.65113326]\n",
      " [ 0.30240132]\n",
      " [ 0.29601826]\n",
      " [ 0.24400263]\n",
      " [ 0.45728806]\n",
      " [ 0.27222473]\n",
      " [ 0.34939593]\n",
      " [ 0.47020417]\n",
      " [ 0.67144478]\n",
      " [ 0.26348606]\n",
      " [ 0.83148721]\n",
      " [ 0.72987627]\n",
      " [ 0.51346144]\n",
      " [ 0.17913797]\n",
      " [ 0.12117099]\n",
      " [ 0.22856198]\n",
      " [ 0.88157239]\n",
      " [ 0.0253534 ]\n",
      " [ 0.0282641 ]\n",
      " [-0.08352555]\n",
      " [ 0.42323563]\n",
      " [ 0.50386406]\n",
      " [ 0.44086643]\n",
      " [ 0.50647116]\n",
      " [ 0.63729538]\n",
      " [ 0.56635345]\n",
      " [ 0.47114325]\n",
      " [ 0.45109781]\n",
      " [ 0.6379653 ]\n",
      " [ 0.25253957]\n",
      " [ 0.42517045]\n",
      " [ 0.54101126]\n",
      " [ 0.36993159]\n",
      " [ 0.234494  ]\n",
      " [ 0.03027455]\n",
      " [ 0.16670351]\n",
      " [ 0.16445651]\n",
      " [ 0.5012371 ]\n",
      " [ 0.18922374]\n",
      " [ 0.13740329]\n",
      " [ 0.35964443]\n",
      " [ 0.68703157]\n",
      " [ 0.70684904]\n",
      " [ 0.21062685]\n",
      " [ 0.33103145]\n",
      " [ 0.36883197]\n",
      " [ 0.23698191]\n",
      " [ 0.25017977]\n",
      " [ 0.62144233]\n",
      " [ 0.78599405]\n",
      " [ 0.07208102]\n",
      " [ 0.33456048]\n",
      " [ 0.35586574]\n",
      " [ 0.07421758]\n",
      " [-0.00525273]\n",
      " [ 1.03832433]\n",
      " [ 0.65940777]\n",
      " [ 0.9491761 ]\n",
      " [ 0.25094281]\n",
      " [ 0.50539541]\n",
      " [ 0.37884812]\n",
      " [ 0.32446833]\n",
      " [ 0.11352757]\n",
      " [ 0.6263613 ]\n",
      " [ 0.3870922 ]\n",
      " [-0.00651928]\n",
      " [ 0.76071256]\n",
      " [ 0.213726  ]\n",
      " [ 0.36530748]\n",
      " [ 0.18071925]\n",
      " [ 0.16484468]\n",
      " [ 0.3757878 ]\n",
      " [ 0.77081765]\n",
      " [ 0.85568421]\n",
      " [ 0.08258303]\n",
      " [-0.0678028 ]\n",
      " [ 0.25599261]\n",
      " [ 0.3475761 ]\n",
      " [ 0.70977251]\n",
      " [ 0.18703961]\n",
      " [ 0.20986346]\n",
      " [ 0.28028894]\n",
      " [ 0.51249868]\n",
      " [ 0.55941273]\n",
      " [ 0.82077744]\n",
      " [ 0.26070784]\n",
      " [ 0.99158795]\n",
      " [ 0.36224917]\n",
      " [ 0.07048699]\n",
      " [ 0.37969188]\n",
      " [ 0.2223196 ]\n",
      " [-0.16362057]\n",
      " [ 0.92581264]\n",
      " [ 0.3738118 ]\n",
      " [ 0.77372198]\n",
      " [ 0.05755356]\n",
      " [ 0.55022084]\n",
      " [ 0.49474998]\n",
      " [ 0.32665245]\n",
      " [ 0.680978  ]\n",
      " [ 0.28239506]\n",
      " [ 0.75468504]\n",
      " [ 0.20720862]\n",
      " [ 0.38485779]\n",
      " [ 0.26135423]\n",
      " [ 0.01106868]\n",
      " [ 0.43995177]\n",
      " [ 0.39016765]\n",
      " [ 0.2099502 ]\n",
      " [ 0.26903228]\n",
      " [ 0.24694377]\n",
      " [ 0.43311694]\n",
      " [ 0.66055497]\n",
      " [ 0.42978362]\n",
      " [ 0.14128351]\n",
      " [-0.01348222]\n",
      " [ 0.4128898 ]\n",
      " [ 0.45732233]\n",
      " [ 0.16196222]\n",
      " [ 0.19046861]\n",
      " [ 0.20855972]\n",
      " [ 0.27093868]\n",
      " [ 0.81989214]\n",
      " [ 0.40186259]\n",
      " [ 0.1313519 ]\n",
      " [ 0.24554911]\n",
      " [ 0.0332115 ]\n",
      " [ 0.16898094]\n",
      " [ 0.04103917]\n",
      " [ 0.02441415]\n",
      " [ 0.9036219 ]\n",
      " [-0.13375178]\n",
      " [ 0.88882983]\n",
      " [ 0.20131577]\n",
      " [ 0.28510385]\n",
      " [ 0.45608621]\n",
      " [ 0.04515137]\n",
      " [ 0.59086717]\n",
      " [-0.31934214]\n",
      " [ 0.24344954]\n",
      " [ 0.33105313]\n",
      " [ 0.078742  ]\n",
      " [-0.05946979]\n",
      " [ 0.35926448]\n",
      " [ 0.52873316]\n",
      " [ 0.35025937]\n",
      " [ 0.87163021]\n",
      " [ 0.36908127]\n",
      " [ 0.68946245]\n",
      " [-0.02550847]\n",
      " [ 0.80413694]\n",
      " [ 0.45072695]\n",
      " [ 0.24670723]\n",
      " [ 0.68948232]\n",
      " [ 0.58875195]\n",
      " [ 0.1944075 ]\n",
      " [ 0.32539884]\n",
      " [-0.34075182]\n",
      " [ 0.67260982]\n",
      " [ 0.69000515]\n",
      " [ 0.13401112]\n",
      " [ 0.68702702]\n",
      " [ 0.47832688]\n",
      " [ 0.25556071]\n",
      " [ 0.52617109]\n",
      " [ 0.00618853]\n",
      " [ 0.0722609 ]\n",
      " [ 0.28873931]\n",
      " [-0.07414923]\n",
      " [ 0.06896658]\n",
      " [ 0.28547069]\n",
      " [ 0.73930525]\n",
      " [ 0.14922398]\n",
      " [ 0.43595183]\n",
      " [ 0.01588377]\n",
      " [ 0.03035929]\n",
      " [ 0.38620744]\n",
      " [ 0.36553947]\n",
      " [ 0.28162712]\n",
      " [-0.02505744]\n",
      " [ 0.05101414]\n",
      " [ 0.0210371 ]\n",
      " [ 0.20631273]\n",
      " [ 0.38755855]\n",
      " [ 0.37521285]\n",
      " [ 0.33082953]\n",
      " [ 0.39237801]\n",
      " [ 0.54379203]\n",
      " [ 0.35974631]\n",
      " [ 0.19073339]\n",
      " [ 0.22702845]\n",
      " [ 0.89657311]\n",
      " [ 0.54920157]\n",
      " [-0.09272637]\n",
      " [ 0.16143519]\n",
      " [ 0.16983344]\n",
      " [ 0.11051044]\n",
      " [ 0.64343316]\n",
      " [ 0.44558018]\n",
      " [ 0.28405871]\n",
      " [ 0.29652325]\n",
      " [ 0.25102571]\n",
      " [ 0.20135878]\n",
      " [ 0.66789241]\n",
      " [ 0.07613491]\n",
      " [ 0.09263619]\n",
      " [ 0.19110425]\n",
      " [ 0.51899874]\n",
      " [ 0.03226368]\n",
      " [ 0.22290969]\n",
      " [ 0.34634198]\n",
      " [ 0.37630827]\n",
      " [ 0.20238059]\n",
      " [ 0.08975591]\n",
      " [ 0.38997868]\n",
      " [ 0.44096866]\n",
      " [ 0.51385635]\n",
      " [ 0.35772911]\n",
      " [ 0.12354155]\n",
      " [ 0.36120366]]\n"
     ]
    }
   ],
   "source": [
    "yp=lr.predict(xtest)\n",
    "print(yp)"
   ]
  },
  {
   "cell_type": "code",
   "execution_count": 43,
   "id": "89161cef-7b93-4e6e-b508-0d60771002c3",
   "metadata": {},
   "outputs": [
    {
     "name": "stdin",
     "output_type": "stream",
     "text": [
      "enter your bmi 148\n",
      "enter glucose level 33.6\n",
      "enter your age 50\n"
     ]
    },
    {
     "name": "stdout",
     "output_type": "stream",
     "text": [
      "     BMI  Glucose   Age\n",
      "0  148.0     33.6  50.0\n",
      "1 Diabetic\n"
     ]
    }
   ],
   "source": [
    "a=float(input(\"enter your bmi\"))\n",
    "b=float(input(\"enter glucose level\"))\n",
    "d=float(input(\"enter your age\"))\n",
    "x=pd.DataFrame([[a,b,d]])\n",
    "x.columns=[\"BMI\",\"Glucose\",\"Age\"]\n",
    "print(x)\n",
    "c=lr.predict(x)\n",
    "#print(c)\n",
    "if c>0.5:\n",
    "    print(1,\"Diabetic\")\n",
    "else:\n",
    "    print(0,\"Not Diabetic\")"
   ]
  },
  {
   "cell_type": "code",
   "execution_count": 45,
   "id": "d5743aec-c9cb-4360-97c0-8e35f4a13b73",
   "metadata": {},
   "outputs": [
    {
     "data": {
      "text/plain": [
       "['diabetes_model.pkl']"
      ]
     },
     "execution_count": 45,
     "metadata": {},
     "output_type": "execute_result"
    }
   ],
   "source": [
    "import joblib\n",
    "\n",
    "# Save model\n",
    "joblib.dump(lr, \"diabetes_model.pkl\")\n"
   ]
  },
  {
   "cell_type": "code",
   "execution_count": 46,
   "id": "4c7d5b2b-b669-40ef-82f5-b016f5866664",
   "metadata": {},
   "outputs": [
    {
     "name": "stderr",
     "output_type": "stream",
     "text": [
      "2025-08-20 11:49:57.706 WARNING streamlit.runtime.scriptrunner_utils.script_run_context: Thread 'MainThread': missing ScriptRunContext! This warning can be ignored when running in bare mode.\n",
      "2025-08-20 11:49:57.864 \n",
      "  \u001b[33m\u001b[1mWarning:\u001b[0m to view this Streamlit app on a browser, run it with the following\n",
      "  command:\n",
      "\n",
      "    streamlit run D:\\Users\\hp\\anaconda3\\Lib\\site-packages\\ipykernel_launcher.py [ARGUMENTS]\n",
      "2025-08-20 11:49:57.866 Thread 'MainThread': missing ScriptRunContext! This warning can be ignored when running in bare mode.\n",
      "2025-08-20 11:49:57.868 Thread 'MainThread': missing ScriptRunContext! This warning can be ignored when running in bare mode.\n",
      "2025-08-20 11:49:57.869 Thread 'MainThread': missing ScriptRunContext! This warning can be ignored when running in bare mode.\n",
      "2025-08-20 11:49:57.871 Thread 'MainThread': missing ScriptRunContext! This warning can be ignored when running in bare mode.\n",
      "2025-08-20 11:49:57.872 Thread 'MainThread': missing ScriptRunContext! This warning can be ignored when running in bare mode.\n",
      "2025-08-20 11:49:57.873 Thread 'MainThread': missing ScriptRunContext! This warning can be ignored when running in bare mode.\n",
      "2025-08-20 11:49:57.875 Thread 'MainThread': missing ScriptRunContext! This warning can be ignored when running in bare mode.\n",
      "2025-08-20 11:49:57.876 Session state does not function when running a script without `streamlit run`\n",
      "2025-08-20 11:49:57.878 Thread 'MainThread': missing ScriptRunContext! This warning can be ignored when running in bare mode.\n",
      "2025-08-20 11:49:57.880 Thread 'MainThread': missing ScriptRunContext! This warning can be ignored when running in bare mode.\n",
      "2025-08-20 11:49:57.882 Thread 'MainThread': missing ScriptRunContext! This warning can be ignored when running in bare mode.\n",
      "2025-08-20 11:49:57.883 Thread 'MainThread': missing ScriptRunContext! This warning can be ignored when running in bare mode.\n",
      "2025-08-20 11:49:57.885 Thread 'MainThread': missing ScriptRunContext! This warning can be ignored when running in bare mode.\n",
      "2025-08-20 11:49:57.886 Thread 'MainThread': missing ScriptRunContext! This warning can be ignored when running in bare mode.\n",
      "2025-08-20 11:49:57.887 Thread 'MainThread': missing ScriptRunContext! This warning can be ignored when running in bare mode.\n",
      "2025-08-20 11:49:57.889 Thread 'MainThread': missing ScriptRunContext! This warning can be ignored when running in bare mode.\n",
      "2025-08-20 11:49:57.890 Thread 'MainThread': missing ScriptRunContext! This warning can be ignored when running in bare mode.\n",
      "2025-08-20 11:49:57.892 Thread 'MainThread': missing ScriptRunContext! This warning can be ignored when running in bare mode.\n",
      "2025-08-20 11:49:57.893 Thread 'MainThread': missing ScriptRunContext! This warning can be ignored when running in bare mode.\n",
      "2025-08-20 11:49:57.894 Thread 'MainThread': missing ScriptRunContext! This warning can be ignored when running in bare mode.\n",
      "2025-08-20 11:49:57.896 Thread 'MainThread': missing ScriptRunContext! This warning can be ignored when running in bare mode.\n",
      "2025-08-20 11:49:57.898 Thread 'MainThread': missing ScriptRunContext! This warning can be ignored when running in bare mode.\n",
      "2025-08-20 11:49:57.899 Thread 'MainThread': missing ScriptRunContext! This warning can be ignored when running in bare mode.\n",
      "2025-08-20 11:49:57.901 Thread 'MainThread': missing ScriptRunContext! This warning can be ignored when running in bare mode.\n",
      "2025-08-20 11:49:57.902 Thread 'MainThread': missing ScriptRunContext! This warning can be ignored when running in bare mode.\n",
      "2025-08-20 11:49:57.904 Thread 'MainThread': missing ScriptRunContext! This warning can be ignored when running in bare mode.\n",
      "2025-08-20 11:49:57.906 Thread 'MainThread': missing ScriptRunContext! This warning can be ignored when running in bare mode.\n"
     ]
    }
   ],
   "source": [
    "import streamlit as st\n",
    "import joblib\n",
    "import numpy as np\n",
    "\n",
    "# Load your trained model\n",
    "lr = joblib.load(\"diabetes_model.pkl\")\n",
    "\n",
    "# App title\n",
    "st.title(\"🩺 Diabetes Prediction App\")\n",
    "\n",
    "st.write(\"Enter details below to check diabetes risk:\")\n",
    "\n",
    "# Input fields\n",
    "glucose = st.number_input(\"Glucose Level\", min_value=0, max_value=300, value=120)\n",
    "bmi = st.number_input(\"BMI\", min_value=0.0, max_value=70.0, value=25.0)\n",
    "age = st.number_input(\"Age\", min_value=1, max_value=120, value=33)\n",
    "\n",
    "# Prediction\n",
    "if st.button(\"Predict\"):\n",
    "    # Arrange inputs into an array\n",
    "    input_data = np.array([[glucose, bmi, age]])\n",
    "    \n",
    "    prediction = lr.predict(input_data)[0]\n",
    "\n",
    "    if prediction == 1:\n",
    "        st.error(\"⚠️ The model predicts that the patient **has a risk of diabetes.**\")\n",
    "    else:\n",
    "        st.success(\"✅ The model predicts that the patient **is not likely to have diabetes.**\")\n"
   ]
  },
  {
   "cell_type": "code",
   "execution_count": null,
   "id": "a6f4be4e-21ba-42eb-8324-dfc217f009f5",
   "metadata": {},
   "outputs": [],
   "source": []
  }
 ],
 "metadata": {
  "kernelspec": {
   "display_name": "Python [conda env:base] *",
   "language": "python",
   "name": "conda-base-py"
  },
  "language_info": {
   "codemirror_mode": {
    "name": "ipython",
    "version": 3
   },
   "file_extension": ".py",
   "mimetype": "text/x-python",
   "name": "python",
   "nbconvert_exporter": "python",
   "pygments_lexer": "ipython3",
   "version": "3.13.5"
  }
 },
 "nbformat": 4,
 "nbformat_minor": 5
}
